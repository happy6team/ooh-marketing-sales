{
 "cells": [
  {
   "cell_type": "code",
   "execution_count": 3,
   "metadata": {},
   "outputs": [],
   "source": [
    "from transformers import AutoModelForCausalLM, AutoTokenizer\n",
    "from langchain_teddynote.tools.tavily import TavilySearch\n",
    "from typing import Annotated, TypedDict\n",
    "from langchain_core.messages import BaseMessage\n",
    "import torch\n",
    "from langgraph.graph import StateGraph, END\n",
    "from langgraph.checkpoint.memory import MemorySaver\n",
    "from langchain_core.runnables import RunnableConfig\n",
    "from langchain_teddynote.messages import random_uuid"
   ]
  },
  {
   "cell_type": "code",
   "execution_count": 4,
   "metadata": {},
   "outputs": [],
   "source": [
    "import os\n",
    "from dotenv import load_dotenv\n",
    "\n",
    "# .env 파일에서 환경 변수 불러오기\n",
    "load_dotenv()\n",
    "\n",
    "# tavily API 키 가져오기\n",
    "tavily_api_key = os.getenv(\"TAVILY_API_KEY\")"
   ]
  },
  {
   "cell_type": "code",
   "execution_count": 5,
   "metadata": {},
   "outputs": [],
   "source": [
    "class WebSearchState(TypedDict):\n",
    "    context: Annotated[str, \"Context\"] # 요약   \n",
    "    answer: Annotated[str, \"Answer\"] # 답변  \n",
    "    messages: Annotated[list[BaseMessage], \"Messages\"] # 기록"
   ]
  },
  {
   "cell_type": "code",
   "execution_count": 6,
   "metadata": {},
   "outputs": [],
   "source": [
    "def web_search(state: WebSearchState) -> WebSearchState:\n",
    "    \n",
    "    tavily_tool = TavilySearch()\n",
    "    search_query = f\"최근 한 달간 유행한 브랜드 이슈 또는 마케팅 사례\"\n",
    "    \n",
    "    # 최근 한 달의 결과 5개 가져오기\n",
    "    search_result = tavily_tool.search(\n",
    "        query=search_query,\n",
    "        topic=\"general\",    # 'general'로 변경 (유효한 옵션)\n",
    "        days=30,            # 최근 한 달 데이터로 확장\n",
    "        max_results=3,      # 결과 수 증가\n",
    "        format_output=True, # 결과 포맷팅\n",
    "    )\n",
    "\n",
    "    if search_result:\n",
    "        formatted_result = f\"## 최근 유행 브랜드 이슈 및 마케팅 사례 분석\\n\\n\" + \"\\n\\n\".join(search_result)\n",
    "        return WebSearchState(context=formatted_result)\n",
    "    else:\n",
    "        print(\"No search results found.\")\n",
    "        return WebSearchState(context=\"최근 브랜드 이슈에 대한 정보를 찾을 수 없습니다.\")"
   ]
  },
  {
   "cell_type": "code",
   "execution_count": 7,
   "metadata": {},
   "outputs": [],
   "source": [
    "# 허깅페이스에서 한국어 생성형 모델 불러오는 함수\n",
    "def get_huggingface_model(model_name: str = \"EleutherAI/gpt-neox-20b\"):\n",
    "    model = AutoModelForCausalLM.from_pretrained(model_name, torch_dtype=torch.float16, device_map=\"auto\")\n",
    "    tokenizer = AutoTokenizer.from_pretrained(model_name)\n",
    "    return model, tokenizer\n",
    "\n",
    "# LLM 응답 생성 함수\n",
    "def llm_answer(state: WebSearchState) -> WebSearchState:\n",
    "    context = state[\"context\"]\n",
    "\n",
    "    report_prompt = f\"\"\"\n",
    "    최근 트렌드가 되고 있는 브랜드 1개에 대해 다음 사항들을 중심으로 한국어로 상세한 분석 보고서를 작성해 주세요.\n",
    "\n",
    "    형식:\n",
    "    1. 최신 브랜드 10개 리스트 정리\n",
    "    2. 각 브랜드의 시장에서의 강점과 특징\n",
    "    3. 각 브랜드가 취하고 있는 마케팅 전략 및 포지셔닝\n",
    "    4. 옥외 광고를 활용한 효과적인 마케팅 전략 및 제안\n",
    "\n",
    "    최신 브랜드 이슈 정보:\n",
    "    {context}\n",
    "    \"\"\"\n",
    "\n",
    "    model, tokenizer = get_huggingface_model()\n",
    "\n",
    "    # 프롬프트 토크나이즈 (길이 초과 방지)\n",
    "    inputs = tokenizer(report_prompt, return_tensors=\"pt\", truncation=True, max_length=1024)\n",
    "\n",
    "    # 모델에 입력 시 길이 확인\n",
    "    if inputs[\"input_ids\"].shape[1] > model.config.max_length:\n",
    "        inputs[\"input_ids\"] = inputs[\"input_ids\"][:, :model.config.max_length]\n",
    "\n",
    "    with torch.no_grad():\n",
    "        # 텍스트 생성\n",
    "        outputs = model.generate(\n",
    "            input_ids=inputs[\"input_ids\"],\n",
    "            max_new_tokens=500,  # 생성할 텍스트의 최대 길이 설정\n",
    "            do_sample=True,\n",
    "            temperature=0.7,\n",
    "            top_p=0.95,\n",
    "            pad_token_id=tokenizer.eos_token_id\n",
    "        )\n",
    "\n",
    "    response = tokenizer.decode(outputs[0], skip_special_tokens=True)\n",
    "\n",
    "    return WebSearchState(\n",
    "        answer=response,\n",
    "        messages=[(\"assistant\", response)]\n",
    "    )\n"
   ]
  },
  {
   "cell_type": "code",
   "execution_count": 8,
   "metadata": {},
   "outputs": [],
   "source": [
    "def makeGraph():\n",
    "    # 워크 플로우   \n",
    "    workflow = StateGraph(WebSearchState)\n",
    "\n",
    "    workflow.add_node(\"web_search\", web_search)\n",
    "    workflow.add_node(\"llm_answer\", llm_answer)\n",
    "\n",
    "    workflow.set_entry_point(\"web_search\")\n",
    "    \n",
    "    workflow.add_edge(\"web_search\", \"llm_answer\")  \n",
    "    workflow.add_edge(\"llm_answer\", END)\n",
    "\n",
    "    memory = MemorySaver()\n",
    "    return workflow.compile(checkpointer=memory)"
   ]
  },
  {
   "cell_type": "code",
   "execution_count": 9,
   "metadata": {},
   "outputs": [],
   "source": [
    "async def brand_analysis():\n",
    "\n",
    "    app = makeGraph()\n",
    "    config = RunnableConfig(recursion_limit=10, configurable={\"thread_id\": random_uuid()})\n",
    "    inputs = WebSearchState(\n",
    "        context=\"\",  \n",
    "        answer=\"\",   \n",
    "        messages=[], \n",
    "        usage_metadata={}\n",
    "    )\n",
    "\n",
    "    result = await app.ainvoke(inputs, config)\n",
    "    return result['answer'].content"
   ]
  },
  {
   "cell_type": "code",
   "execution_count": null,
   "metadata": {},
   "outputs": [
    {
     "name": "stdout",
     "output_type": "stream",
     "text": [
      "Warning: days parameter is ignored for 'general' topic search. Set topic parameter to 'news' to use days.\n"
     ]
    },
    {
     "name": "stderr",
     "output_type": "stream",
     "text": [
      "Fetching 46 files:   0%|          | 0/46 [00:00<?, ?it/s]"
     ]
    }
   ],
   "source": [
    "import asyncio\n",
    "\n",
    "async def main():\n",
    "    result = await brand_analysis()\n",
    "    print(result)\n",
    "\n",
    "# notebook으로 실행 시\n",
    "await main()\n",
    "\n",
    "# py 파일로 실행 시\n",
    "# if __name__ == \"__main__\":\n",
    "#     asyncio.run(main())"
   ]
  }
 ],
 "metadata": {
  "kernelspec": {
   "display_name": "OoHMarketingSalse",
   "language": "python",
   "name": "python3"
  },
  "language_info": {
   "codemirror_mode": {
    "name": "ipython",
    "version": 3
   },
   "file_extension": ".py",
   "mimetype": "text/x-python",
   "name": "python",
   "nbconvert_exporter": "python",
   "pygments_lexer": "ipython3",
   "version": "3.11.11"
  }
 },
 "nbformat": 4,
 "nbformat_minor": 2
}
