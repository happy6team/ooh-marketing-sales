{
 "cells": [
  {
   "cell_type": "code",
   "execution_count": 1,
   "id": "2e21578c",
   "metadata": {},
   "outputs": [
    {
     "data": {
      "text/plain": [
       "True"
      ]
     },
     "execution_count": 1,
     "metadata": {},
     "output_type": "execute_result"
    }
   ],
   "source": [
    "import os\n",
    "from dotenv import load_dotenv\n",
    "\n",
    "load_dotenv()\n",
    "\n",
    "# tavily_api_key = os.getenv(\"TAVILY_API_KEY\")"
   ]
  },
  {
   "cell_type": "code",
   "execution_count": 2,
   "id": "923d78ef",
   "metadata": {},
   "outputs": [],
   "source": [
    "from langchain_teddynote.tools.tavily import TavilySearch\n",
    "from langchain_openai import ChatOpenAI\n",
    "from langchain_core.prompts import PromptTemplate\n",
    "from langchain_core.messages import HumanMessage\n",
    "from typing import Annotated, TypedDict\n",
    "import ast\n",
    "import re\n"
   ]
  },
  {
   "cell_type": "code",
   "execution_count": null,
   "id": "1d880e0c",
   "metadata": {},
   "outputs": [],
   "source": [
    "class AgentState(TypedDict):\n",
    "    brand_list: Annotated[list[str], \"brand_list\"] \n",
    "    brand_issue: Annotated[list[str], \"brand_issue\"] \n",
    "    brand_description: Annotated[list[str], \"brand_description\"] "
   ]
  },
  {
   "cell_type": "code",
   "execution_count": null,
   "id": "b4f9bf7f",
   "metadata": {},
   "outputs": [],
   "source": [
    "# LLM 및 검색 도구 초기화\n",
    "llm = ChatOpenAI(model=\"gpt-4o-mini\", temperature=0)\n",
    "search_tool = TavilySearch()\n",
    "\n",
    "# 카테고리와 검색 기간 설정\n",
    "category = \"패션\"\n",
    "time_filter = \"2025년 3월\""
   ]
  },
  {
   "cell_type": "code",
   "execution_count": null,
   "id": "0c0b41bb",
   "metadata": {},
   "outputs": [],
   "source": [
    "def brand_explorer_agent(state: AgentState) -> AgentState:\n",
    "    \"\"\"\n",
    "    패션 브랜드의 최신 마케팅 이슈를 탐색하는 에이전트\n",
    "    \n",
    "    Args:\n",
    "        state: 입력 상태(비어있을 수 있음)\n",
    "        \n",
    "    Returns:\n",
    "        brand_list, brand_issue, brand_description이 포함된 업데이트된 AgentState\n",
    "    \"\"\"\n",
    "    \n",
    "    # 더 다양한 결과를 위해 여러 검색 쿼리 실행\n",
    "    search_queries = [\n",
    "        f\"국내 {category} 브랜드 {time_filter} 팝업스토어 이슈 뉴스\",\n",
    "        f\"국내 {category} 브랜드 {time_filter} 신제품 출시 이슈\",\n",
    "        f\"{category} 브랜드 {time_filter} 앰배서더 광고모델 발표\",\n",
    "        f\"{category} 브랜드 {time_filter} 콜라보레이션 협업\"\n",
    "    ]\n",
    "    \n",
    "    # 각 쿼리 결과 합치기\n",
    "    all_web_content = \"\"\n",
    "    for query in search_queries:\n",
    "        result = search_tool.invoke({\"query\": query})\n",
    "        result_str = str(result)\n",
    "        all_web_content += result_str + \"\\n\\n=== 다음 검색 결과 ===\\n\\n\"\n",
    "    \n",
    "    # 프롬프트 템플릿 생성\n",
    "    prompt_template = PromptTemplate.from_template(\"\"\"\n",
    "    당신은 전문 브랜드 분석가입니다.\n",
    "    \n",
    "    다음 웹 검색 결과에서 한국 내에서 발생한 {category} 분야의 최신 마케팅 이슈가 있는 브랜드를 최대 10개까지 추출해주세요.\n",
    "    \n",
    "    반드시 아래와 같은 구체적인 한국 내 마케팅 이슈가 있는 브랜드만 추출하세요:\n",
    "    - 한국에서의 신제품 출시\n",
    "    - 앰배서더 또는 광고 모델 발표\n",
    "    - 한국 내 팝업스토어 오픈 (서울, 부산 등 국내 도시에서 진행)\n",
    "    - 브랜드/인물과의 콜라보레이션\n",
    "    - 한국 소비자를 대상으로 한 마케팅 캠페인                                               \n",
    "    \n",
    "    중요: 반드시 정식 패션 브랜드만 포함해야 합니다. 다음 기준을 만족해야 합니다:\n",
    "    - 의류, 신발, 액세서리 등을 생산/판매하는 패션 브랜드여야 함\n",
    "    - 실제 존재하는 패션 브랜드여야 함\n",
    "    - 게임 캐릭터, 연예인, 아이돌, 가상 인물은 제외\n",
    "    - 패션 브랜드가 아닌 팝업스토어 주최자는 제외\n",
    "    \n",
    "    반드시 다음 조건을 준수하세요:\n",
    "    \n",
    "    1. 실제 검색 결과에서 확인된 최신 이슈만 포함하세요.\n",
    "    2. 각 브랜드마다 최대한 서로 다른 날짜의 이슈를 찾으세요. \n",
    "    3. 날짜를 찾을 수 없는 경우 '날짜 미상'이라고 표시하고, 절대로 임의의 날짜를 생성하지 마세요.\n",
    "    4. 실제 마케팅 이슈가 있는 브랜드와 이슈만 포함하고, 없는 내용은 생성하지 마세요.\n",
    "    5. 최대한 다양한 유형의 이슈(팝업스토어, 콜라보레이션, 신제품 출시 등)를 포함하세요.\n",
    "    \n",
    "    다음 형식으로 Python 딕셔너리 리스트를 반환해주세요:\n",
    "    [\n",
    "        {{\n",
    "            \"name\": \"브랜드명\", \n",
    "            \"issue\": \"이슈 발생 날짜 + 한국 내 발생한 브랜드 이슈 내용 (예: '2025년 5월 1일: 서울 가로수길에 팝업스토어 오픈', '날짜 미상: 새 앰배서더 발표')\",\n",
    "            \"description\": \"브랜드 특징, 주요 제품 라인, 타겟 고객층에 대한 설명\"\n",
    "        }}\n",
    "    ]\n",
    "    \n",
    "    참고: 검색 결과에서 실제로 찾을 수 있는 구체적인 이슈와 날짜만 사용하세요.\n",
    "    설명 없이 위 형식의 유효한 Python 딕셔너리 리스트만 반환하세요. 코드 블록(```)을 사용하지 마세요.\n",
    "    \n",
    "    검색 결과:\n",
    "    {web_content}\n",
    "    \"\"\")\n",
    "    \n",
    "    # 프롬프트 생성 및 LLM 호출\n",
    "    prompt = prompt_template.format(category=category, time_filter=time_filter, web_content=all_web_content)\n",
    "    response = llm([HumanMessage(content=prompt)])\n",
    "    \n",
    "    try:\n",
    "        # 응답에서 코드 블록 제거 (있는 경우)\n",
    "        content = response.content\n",
    "        # 코드 블록이 있는 경우 제거\n",
    "        if \"```\" in content:\n",
    "            # 정규식으로 코드 블록 안의 내용만 추출\n",
    "            pattern = r\"```(?:python)?\\s*([\\s\\S]*?)```\"\n",
    "            matches = re.findall(pattern, content)\n",
    "            if matches:\n",
    "                content = matches[0].strip()\n",
    "            else:\n",
    "                # 코드 블록 마커를 단순히 제거\n",
    "                content = content.replace(\"```python\", \"\").replace(\"```\", \"\").strip()\n",
    "        \n",
    "        # 응답 파싱\n",
    "        brand_data = ast.literal_eval(content)\n",
    "        \n",
    "        # 리스트가 아니면 오류 처리\n",
    "        if not isinstance(brand_data, list):\n",
    "            raise ValueError(\"응답이 리스트가 아님\")\n",
    "        \n",
    "        # 결과 분리하여 준비\n",
    "        brand_names = [item[\"name\"] for item in brand_data]\n",
    "        brand_issues = [item[\"issue\"] for item in brand_data]\n",
    "        brand_descriptions = [item[\"description\"] for item in brand_data]\n",
    "        \n",
    "    except Exception as e:\n",
    "        print(f\"⚠️ 응답 파싱 실패: {e}\")\n",
    "        print(f\"원본 응답: {response.content}\")\n",
    "        # 오류 발생 시 빈 리스트 반환\n",
    "        brand_names = []\n",
    "        brand_issues = []\n",
    "        brand_descriptions = []\n",
    "    \n",
    "    # 결과 업데이트\n",
    "    return {\n",
    "        \"brand_list\": brand_names,\n",
    "        \"brand_issue\": brand_issues,\n",
    "        \"brand_description\": brand_descriptions\n",
    "    }"
   ]
  },
  {
   "cell_type": "code",
   "execution_count": 4,
   "id": "c37c137f",
   "metadata": {},
   "outputs": [
    {
     "name": "stderr",
     "output_type": "stream",
     "text": [
      "/var/folders/x8/x9mhzs_j0yx8btgk3t9m0vvc0000gn/T/ipykernel_85452/2097649513.py:85: LangChainDeprecationWarning: The method `BaseChatModel.__call__` was deprecated in langchain-core 0.1.7 and will be removed in 1.0. Use :meth:`~invoke` instead.\n",
      "  response = llm([HumanMessage(content=prompt)])\n"
     ]
    },
    {
     "data": {
      "text/plain": [
       "{'brand_list': ['더바넷',\n",
       "  '자라',\n",
       "  '코치',\n",
       "  '푸마',\n",
       "  '홀슨부',\n",
       "  '민스코',\n",
       "  '러브엠',\n",
       "  '골드윈',\n",
       "  '세르지오 타키니',\n",
       "  'MLB'],\n",
       " 'brand_issue': ['2025년 3월 9일: 서울 잠실 롯데월드몰에 국내 첫 팝업스토어 오픈',\n",
       "  '2025년 3월 21일: 앤더슨벨과 협업 컬렉션 출시 및 성수동 팝업스토어 운영',\n",
       "  '2025년 1월 19일: 마뗑 킴과의 협업 컬렉션 및 팝업스토어 오픈',\n",
       "  '2025년 3월 15일: 무신사 스퀘어 성수에서 NITRO™ HOUSE 팝업스토어 운영',\n",
       "  '2025년 3월 14일: 신세계백화점 본점에 국내 최초 직영 매장 오픈',\n",
       "  '2025년 3월 14일: 더현대 서울에서 민스코 셀렉트스토어 팝업스토어 진행',\n",
       "  '2025년 3월 14일: 현대백화점 판교점에서 화이트데이 기념 팝업스토어 진행',\n",
       "  '2025년 3월 14일: 현대백화점 판교점에서 OAMC와 협업 컬렉션 팝업스토어 진행',\n",
       "  '2025년 3월 15일: EQL 성수에서 팝업스토어 진행',\n",
       "  '2025년 3월 14일: 서울 성수동에 플래그십 스토어 오픈'],\n",
       " 'brand_description': ['2021년 론칭한 캐주얼 브랜드로, 20·30세대 고객에게 가장 트렌디한 브랜드로 손꼽히며, 가방과 모자, 액세서리를 포함한 다양한 상품을 선보인다.',\n",
       "  '스페인 기반의 글로벌 패션 브랜드로, 트렌디한 의류와 액세서리를 제공하며, 다양한 협업을 통해 독창적인 디자인을 선보인다.',\n",
       "  '미국의 럭셔리 패션 브랜드로, 가죽 제품과 액세서리로 유명하며, 다양한 아티스트와의 협업을 통해 독특한 디자인을 선보인다.',\n",
       "  '독일의 스포츠 브랜드로, 운동화와 스포츠 의류를 전문으로 하며, 혁신적인 디자인과 기술력을 바탕으로 다양한 제품을 출시한다.',\n",
       "  '한국의 패션 브랜드로, 현대적인 디자인과 실용성을 강조하며, 다양한 의류와 액세서리를 제공한다.',\n",
       "  '한국의 패션 브랜드로, 독창적인 디자인과 트렌디한 스타일을 선보이며, 다양한 고객층을 대상으로 한 제품을 제공한다.',\n",
       "  '한국의 패션 브랜드로, 사랑과 로맨스를 주제로 한 다양한 의류와 액세서리를 제공하며, 특별한 이벤트를 통해 고객과 소통한다.',\n",
       "  '일본의 아웃도어 브랜드로, 기능성과 디자인을 결합한 다양한 제품을 선보이며, 고품질의 아웃도어 의류와 액세서리를 제공한다.',\n",
       "  '이탈리아의 스포츠 패션 브랜드로, 고급스러운 디자인과 편안한 착용감을 강조하며, 다양한 스포츠 의류와 액세서리를 제공한다.',\n",
       "  '미국의 스포츠 브랜드로, 야구를 테마로 한 다양한 의류와 액세서리를 제공하며, 트렌디한 디자인으로 젊은 소비자층을 겨냥한다.']}"
      ]
     },
     "execution_count": 4,
     "metadata": {},
     "output_type": "execute_result"
    }
   ],
   "source": [
    "result = brand_explorer_agent(AgentState)\n",
    "result"
   ]
  }
 ],
 "metadata": {
  "kernelspec": {
   "display_name": "OoHMarketingSalse",
   "language": "python",
   "name": "python3"
  },
  "language_info": {
   "codemirror_mode": {
    "name": "ipython",
    "version": 3
   },
   "file_extension": ".py",
   "mimetype": "text/x-python",
   "name": "python",
   "nbconvert_exporter": "python",
   "pygments_lexer": "ipython3",
   "version": "3.11.11"
  }
 },
 "nbformat": 4,
 "nbformat_minor": 5
}
