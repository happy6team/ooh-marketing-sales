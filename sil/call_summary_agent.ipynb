{
 "cells": [
  {
   "cell_type": "code",
   "execution_count": 5,
   "metadata": {},
   "outputs": [
    {
     "name": "stdout",
     "output_type": "stream",
     "text": [
      "📝 인식된 텍스트:\n",
      " 안녕하세요 오개광고대 행사 올리질 굿입니다. 혹시 언어부 담당자 맞으신가요? 네 맞습니다.  네 안녕하세요. 다름이 아니라 이번 신제품 출시에 맞춰서 저희가 홍대 지하철 매체를 제한드리고자 하는데 혹시 관심 있으실까요? 홍대가 언어부 주요 타계층인 mg세대와 딱 맞을 것 같아서요.  아 저희가 이번에 홍대는 말고 성수의 파버스토리 계획인데 혹시 성숙 좀 매체도 있나요? 네 물론이죠. 성수역 근처 뿐만 아니라 성수 카페 거리 중심으로 저희가 여러 매체를 보유하고 있는데 혹시 제가 미팅으로 자세하게 설명드려도 될까요? 죄송한데 제가 미팅 어릴 것 같고요. 이멜로 일단 제한서 보내주세요. 네 그럼 저희 통합 오개 광고 제한서와 함께 성수 파벅을 맞춘 제한서 따로 보내드리겠습니다.  혹시 담담자분 성함과 이메일 알 수 있을까요? 제 이름은 이 효정이고요. 이메일은 sgsgk113 골뱅이 스크라다컴입니다. 네 sgsgk113 골뱅이 skal8.co에 맞으시죠? 오늘 중으로 매일 드리겠습니다. 감사합니다. 네 감사합니다.\n",
      "🔎 요약 및 요구사항 정리:\n",
      "- 브랜드 담당자 이름: 이효정\n",
      "- 연락처: sgsgk113@skal8.co\n",
      "- 지역: 성수\n",
      "- 매체: 성수역 근처 및 성수 카페 거리 중심\n",
      "- 타겟층: MG세대\n",
      "- 비고 (미팅 날짜, 추후 연락 등): 미팅 대신 이메일로 제안서 요청, 오늘 중으로 이메일 발송 예정\n",
      "- 성사 여부: 미정 (제안서 발송 후 결정될 가능성 있음)\n",
      "✅ sales_log 테이블에 데이터 저장 완료\n",
      "🗂️ 최종 저장된 필드:\n",
      "{'manager_name': '이효정', 'manager_email': 'sgsgk113@skal8.co', 'call_full_text': ' 안녕하세요 오개광고대 행사 올리질 굿입니다. 혹시 언어부 담당자 맞으신가요? 네 맞습니다.  네 안녕하세요. 다름이 아니라 이번 신제품 출시에 맞춰서 저희가 홍대 지하철 매체를 제한드리고자 하는데 혹시 관심 있으실까요? 홍대가 언어부 주요 타계층인 mg세대와 딱 맞을 것 같아서요.  아 저희가 이번에 홍대는 말고 성수의 파버스토리 계획인데 혹시 성숙 좀 매체도 있나요? 네 물론이죠. 성수역 근처 뿐만 아니라 성수 카페 거리 중심으로 저희가 여러 매체를 보유하고 있는데 혹시 제가 미팅으로 자세하게 설명드려도 될까요? 죄송한데 제가 미팅 어릴 것 같고요. 이멜로 일단 제한서 보내주세요. 네 그럼 저희 통합 오개 광고 제한서와 함께 성수 파벅을 맞춘 제한서 따로 보내드리겠습니다.  혹시 담담자분 성함과 이메일 알 수 있을까요? 제 이름은 이 효정이고요. 이메일은 sgsgk113 골뱅이 스크라다컴입니다. 네 sgsgk113 골뱅이 skal8.co에 맞으시죠? 오늘 중으로 매일 드리겠습니다. 감사합니다. 네 감사합니다.', 'call_memo': '- 브랜드 담당자 이름: 이효정\\n- 연락처: sgsgk113@skal8.co\\n- 지역: 성수\\n- 매체: 성수역 근처 및 성수 카페 거리 중심\\n- 타겟층: MG세대\\n- 비고 (미팅 날짜, 추후 연락 등): 미팅 대신 이메일로 제안서 요청, 오늘 중으로 이메일 발송 예정\\n- 성사 여부: 미정 (제안서 발송 후 결정될 가능성 있음)', 'client_needs_summary': '지역: 성수\\n매체: 성수역 근처 및 성수 카페 거리 중심\\n타겟층: MG세대'}\n"
     ]
    }
   ],
   "source": [
    "from faster_whisper import WhisperModel\n",
    "from typing import TypedDict, Annotated\n",
    "from langchain_core.messages import BaseMessage\n",
    "import openai\n",
    "import os\n",
    "from dotenv import load_dotenv\n",
    "import re\n",
    "import mysql.connector\n",
    "from datetime import datetime\n",
    "\n",
    "# 1️⃣ State 정의\n",
    "class CallingState(TypedDict):\n",
    "    full_text: Annotated[str, \"Transcribed Text\"]\n",
    "    summary: Annotated[str, \"Summarized Info\"]\n",
    "    messages: Annotated[list[BaseMessage], \"Messages\"]\n",
    "\n",
    "# 2️⃣ 빈값 -> None 변환 함수\n",
    "def empty_to_none(value):\n",
    "    if value and value.lower() != \"nan\":\n",
    "        return value.strip()\n",
    "    else:\n",
    "        return None\n",
    "\n",
    "# 3️⃣ 음성 인식 → State 반환\n",
    "def transcribe(state: CallingState) -> CallingState:\n",
    "    model = WhisperModel(\"base\")\n",
    "    segments, info = model.transcribe(\"calling_data.m4a\")\n",
    "    full_text = \" \".join([seg.text for seg in segments])\n",
    "    print(\"📝 인식된 텍스트:\")\n",
    "    print(full_text)\n",
    "\n",
    "    return CallingState(\n",
    "        full_text=full_text,\n",
    "        summary=\"\",\n",
    "        messages=[]\n",
    "    )\n",
    "\n",
    "# 4️⃣ 요약 및 요구사항 정리 → State 갱신\n",
    "def summarize(state: CallingState) -> CallingState:\n",
    "    load_dotenv()\n",
    "    client = openai.OpenAI()\n",
    "\n",
    "    prompt = f\"\"\"\n",
    "    다음 고객과의 통화 내용을 요약하고, 고객의 요구사항을 다음 필드별로 정리해줘:\n",
    "    - 브랜드 담당자 이름:\n",
    "    - 연락처:\n",
    "    - 지역:\n",
    "    - 매체:\n",
    "    - 타겟층:\n",
    "    - 비고 (미팅 날짜, 추후 연락 등):\n",
    "    - 성사 여부:\n",
    "\n",
    "    통화 내용:\n",
    "    \\\"\\\"\\\"{state['full_text']}\\\"\\\"\\\"\n",
    "    \"\"\"\n",
    "\n",
    "    response = client.chat.completions.create(\n",
    "        model=\"gpt-4o\",\n",
    "        messages=[\n",
    "            {\"role\": \"system\", \"content\": \"너는 영업 담당자의 어시스턴트야. 고객의 요구사항을 정확하게 정리해야 해.\"},\n",
    "            {\"role\": \"user\", \"content\": prompt}\n",
    "        ],\n",
    "        temperature=0.2\n",
    "    )\n",
    "\n",
    "    summary = response.choices[0].message.content\n",
    "    print(\"🔎 요약 및 요구사항 정리:\")\n",
    "    print(summary)\n",
    "\n",
    "    return CallingState(\n",
    "        full_text=state[\"full_text\"],\n",
    "        summary=summary,\n",
    "        messages=[]\n",
    "    )\n",
    "\n",
    "# 5️⃣ GPT 요약에서 필드별 값 추출\n",
    "def extract_fields(summary: str, full_text: str):\n",
    "    def extract(label):\n",
    "        match = re.search(f\"{label}: *(.*)\", summary)\n",
    "        return match.group(1).strip() if match else \"\"\n",
    "\n",
    "    # 필드별 추출\n",
    "    manager_name = extract(\"브랜드 담당자 이름\")\n",
    "    manager_email = extract(\"연락처\")\n",
    "\n",
    "    region = extract(\"지역\")\n",
    "    media = extract(\"매체\")\n",
    "    target = extract(\"타겟층\")\n",
    "\n",
    "    # call_memo는 **요약 전체**를 그대로 사용!\n",
    "    call_memo = summary\n",
    "\n",
    "    # client_needs_summary = 지역 + 매체 + 타겟층 이어 붙이기\n",
    "    summary_parts = []\n",
    "    if region:\n",
    "        summary_parts.append(f\"지역: {region}\")\n",
    "    if media:\n",
    "        summary_parts.append(f\"매체: {media}\")\n",
    "    if target:\n",
    "        summary_parts.append(f\"타겟층: {target}\")\n",
    "    client_needs_summary = \"\\n\".join(summary_parts) if summary_parts else None\n",
    "\n",
    "    return {\n",
    "        \"manager_name\": manager_name,\n",
    "        \"manager_email\": manager_email,\n",
    "        \"call_full_text\": full_text,\n",
    "        \"call_memo\": call_memo,  # 요약 전체가 메모로\n",
    "        \"client_needs_summary\": client_needs_summary\n",
    "    }\n",
    "\n",
    "# 6️⃣ MariaDB에 데이터 저장\n",
    "def save_to_mariadb(fields: dict):\n",
    "    load_dotenv()\n",
    "    conn = mysql.connector.connect(\n",
    "        host=os.getenv(\"DB_HOST\"),\n",
    "        user=os.getenv(\"DB_USER\"),\n",
    "        password=os.getenv(\"DB_PASSWORD\"),\n",
    "        database=os.getenv(\"DB_NAME\")\n",
    "    )\n",
    "    cursor = conn.cursor()\n",
    "\n",
    "    sql = \"\"\"\n",
    "    INSERT INTO sales_log \n",
    "    (manager_name, manager_email, call_full_text, call_memo, client_needs_summary)\n",
    "    VALUES (%s, %s, %s, %s, %s)\n",
    "    \"\"\"\n",
    "    values = (\n",
    "        empty_to_none(fields[\"manager_name\"]),\n",
    "        empty_to_none(fields[\"manager_email\"]),\n",
    "        empty_to_none(fields[\"call_full_text\"]),\n",
    "        empty_to_none(fields[\"call_memo\"]),\n",
    "        empty_to_none(fields[\"client_needs_summary\"])\n",
    "    )\n",
    "    cursor.execute(sql, values)\n",
    "    conn.commit()\n",
    "    print(\"✅ sales_log 테이블에 데이터 저장 완료\")\n",
    "    cursor.close()\n",
    "    conn.close()\n",
    "\n",
    "# 7️⃣ 전체 파이프라인 실행\n",
    "state: CallingState = {\"full_text\": \"\", \"summary\": \"\", \"messages\": []}\n",
    "\n",
    "state = transcribe(state)\n",
    "state = summarize(state)\n",
    "fields = extract_fields(state[\"summary\"], state[\"full_text\"])\n",
    "save_to_mariadb(fields)\n",
    "\n",
    "print(\"🗂️ 최종 저장된 필드:\")\n",
    "print(fields)"
   ]
  },
  {
   "cell_type": "code",
   "execution_count": null,
   "metadata": {},
   "outputs": [
    {
     "name": "stderr",
     "output_type": "stream",
     "text": [
      "c:\\Users\\Administrator\\anaconda3\\envs\\OoHMarketingSales\\Lib\\site-packages\\transformers\\utils\\generic.py:441: FutureWarning: `torch.utils._pytree._register_pytree_node` is deprecated. Please use `torch.utils._pytree.register_pytree_node` instead.\n",
      "  _torch_pytree._register_pytree_node(\n"
     ]
    },
    {
     "name": "stdout",
     "output_type": "stream",
     "text": [
      "📝 인식된 텍스트:\n",
      " 안녕하세요 오개광고대 행사 올리질 굿입니다. 혹시 언어부 담당자 맞으신가요? 네 맞습니다.  네 안녕하세요. 다름이 아니라 이번 신제품 출시에 맞춰서 저희가 홍대 지하철 매체를 제한드리고자 하는데 혹시 관심 있으실까요? 홍대가 언어부 주요 타계층인 mg세대와 딱 맞을 것 같아서요.  아 저희가 이번에 홍대는 말고 성수의 파버스토리 계획인데 혹시 성숙 좀 매체도 있나요? 네 물론이죠. 성수역 근처 뿐만 아니라 성수 카페 거리 중심으로 저희가 여러 매체를 보유하고 있는데 혹시 제가 미팅으로 자세하게 설명드려도 될까요? 죄송한데 제가 미팅 어릴 것 같고요. 이멜로 일단 제한서 보내주세요. 네 그럼 저희 통합 오개 광고 제한서와 함께 성수 파벅을 맞춘 제한서 따로 보내드리겠습니다.  혹시 담담자분 성함과 이메일 알 수 있을까요? 제 이름은 이 효정이고요. 이메일은 sgsgk113 골뱅이 스크라다컴입니다. 네 sgsgk113 골뱅이 skal8.co에 맞으시죠? 오늘 중으로 매일 드리겠습니다. 감사합니다. 네 감사합니다.\n",
      "🔎 요약 및 요구사항 정리:\n",
      "- 지역: 성수\n",
      "- 매체: 성수역 근처 및 성수 카페 거리 중심의 매체\n",
      "- 타겟층: MZ세대\n",
      "- 비고 (미팅 날짜, 추후 연락 등): 미팅은 어려우며, 이메일로 제안서 요청\n",
      "- 연락처: 이메일 - sgsgk113@skal8.co\n",
      "- 성사 여부: 제안서 발송 예정, 성사 여부 미정\n",
      "🗂️ 최종 State:\n",
      "{'full_text': ' 안녕하세요 오개광고대 행사 올리질 굿입니다. 혹시 언어부 담당자 맞으신가요? 네 맞습니다.  네 안녕하세요. 다름이 아니라 이번 신제품 출시에 맞춰서 저희가 홍대 지하철 매체를 제한드리고자 하는데 혹시 관심 있으실까요? 홍대가 언어부 주요 타계층인 mg세대와 딱 맞을 것 같아서요.  아 저희가 이번에 홍대는 말고 성수의 파버스토리 계획인데 혹시 성숙 좀 매체도 있나요? 네 물론이죠. 성수역 근처 뿐만 아니라 성수 카페 거리 중심으로 저희가 여러 매체를 보유하고 있는데 혹시 제가 미팅으로 자세하게 설명드려도 될까요? 죄송한데 제가 미팅 어릴 것 같고요. 이멜로 일단 제한서 보내주세요. 네 그럼 저희 통합 오개 광고 제한서와 함께 성수 파벅을 맞춘 제한서 따로 보내드리겠습니다.  혹시 담담자분 성함과 이메일 알 수 있을까요? 제 이름은 이 효정이고요. 이메일은 sgsgk113 골뱅이 스크라다컴입니다. 네 sgsgk113 골뱅이 skal8.co에 맞으시죠? 오늘 중으로 매일 드리겠습니다. 감사합니다. 네 감사합니다.', 'summary': '- 지역: 성수\\n- 매체: 성수역 근처 및 성수 카페 거리 중심의 매체\\n- 타겟층: MZ세대\\n- 비고 (미팅 날짜, 추후 연락 등): 미팅은 어려우며, 이메일로 제안서 요청\\n- 연락처: 이메일 - sgsgk113@skal8.co\\n- 성사 여부: 제안서 발송 예정, 성사 여부 미정', 'messages': []}\n"
     ]
    }
   ],
   "source": [
    "from faster_whisper import WhisperModel\n",
    "from typing import TypedDict, Annotated\n",
    "from langchain_core.messages import BaseMessage\n",
    "import openai\n",
    "import os\n",
    "from dotenv import load_dotenv\n",
    "\n",
    "# 1️⃣ State 정의\n",
    "class CallingState(TypedDict):\n",
    "    full_text: Annotated[str, \"Transcribed Text\"]\n",
    "    summary: Annotated[str, \"Summarized Info\"]\n",
    "    messages: Annotated[list[BaseMessage], \"Messages\"]  # 향후 확장용\n",
    "\n",
    "# 2️⃣ 음성 인식 함수 → State 반환\n",
    "def transcribe(state: CallingState) -> CallingState:\n",
    "    model = WhisperModel(\"base\")\n",
    "    segments, info = model.transcribe(\"calling_data.m4a\")\n",
    "    full_text = \" \".join([seg.text for seg in segments])\n",
    "    print(\"📝 인식된 텍스트:\")\n",
    "    print(full_text)\n",
    "\n",
    "    return CallingState(\n",
    "        full_text=full_text,\n",
    "        summary=\"\",\n",
    "        messages=[]\n",
    "    )\n",
    "\n",
    "# 3️⃣ 요약 및 요구사항 정리 함수 → State 갱신\n",
    "def summarize(state: CallingState) -> CallingState:\n",
    "    load_dotenv()\n",
    "    client = openai.OpenAI()\n",
    "\n",
    "    prompt = f\"\"\"\n",
    "    다음 고객과의 통화 내용을 요약하고, 고객의 요구사항을 다음 필드별로 정리해줘:\n",
    "    - 지역:\n",
    "    - 매체:\n",
    "    - 타겟층:\n",
    "    - 비고 (미팅 날짜, 추후 연락 등):\n",
    "    - 연락처:\n",
    "    - 성사 여부:\n",
    "\n",
    "    통화 내용:\n",
    "    \\\"\\\"\\\"{state['full_text']}\\\"\\\"\\\" \n",
    "    \"\"\"\n",
    "\n",
    "    response = client.chat.completions.create(\n",
    "        model=\"gpt-4o\",\n",
    "        messages=[\n",
    "            {\"role\": \"system\", \"content\": \"너는 영업 담당자의 어시스턴트야. 고객의 요구사항을 정확하게 정리해야 해.\"},\n",
    "            {\"role\": \"user\", \"content\": prompt}\n",
    "        ],\n",
    "        temperature=0.2\n",
    "    )\n",
    "\n",
    "    summary = response.choices[0].message.content\n",
    "    print(\"🔎 요약 및 요구사항 정리:\")\n",
    "    print(summary)\n",
    "\n",
    "    return CallingState(\n",
    "        full_text=state[\"full_text\"],\n",
    "        summary=summary,\n",
    "        messages=[]  # 나중에 GPT 메시지 기록 넣으면 됨\n",
    "    )\n",
    "\n",
    "# 4️⃣ 전체 파이프라인 실행\n",
    "state: CallingState = {\"full_text\": \"\", \"summary\": \"\", \"messages\": []}\n",
    "\n",
    "state = transcribe(state)\n",
    "state = summarize(state)\n",
    "\n",
    "print(\"🗂️ 최종 State:\")\n",
    "print(state)\n",
    "\n",
    "# 이름, 이메일, 내용, 요구사항(지역, 매체, 타겟층), 메모(비고, 성사여부)"
   ]
  },
  {
   "cell_type": "markdown",
   "metadata": {},
   "source": [
    "1️⃣ Whisper로 음성 → 텍스트 변환"
   ]
  },
  {
   "cell_type": "code",
   "execution_count": 4,
   "metadata": {},
   "outputs": [
    {
     "name": "stdout",
     "output_type": "stream",
     "text": [
      "📝 인식된 텍스트:\n",
      " 안녕하세요 오개광고대 행사 올리질 굿입니다. 혹시 언어부 담당자 맞으신가요? 네 맞습니다.  네 안녕하세요. 다름이 아니라 이번 신제품 출시에 맞춰서 저희가 홍대 지하철 매체를 제한드리고자 하는데 혹시 관심 있으실까요? 홍대가 언어부 주요 타계층인 mg세대와 딱 맞을 것 같아서요.  아 저희가 이번에 홍대는 말고 성수의 파버스토리 계획인데 혹시 성숙 좀 매체도 있나요? 네 물론이죠. 성수역 근처 뿐만 아니라 성수 카페 거리 중심으로 저희가 여러 매체를 보유하고 있는데 혹시 제가 미팅으로 자세하게 설명드려도 될까요? 죄송한데 제가 미팅 어릴 것 같고요. 이멜로 일단 제한서 보내주세요. 네 그럼 저희 통합 오개 광고 제한서와 함께 성수 파벅을 맞춘 제한서 따로 보내드리겠습니다.  혹시 담담자분 성함과 이메일 알 수 있을까요? 제 이름은 이 효정이고요. 이메일은 sgsgk113 골뱅이 스크라다컴입니다. 네 sgsgk113 골뱅이 skal8.co에 맞으시죠? 오늘 중으로 매일 드리겠습니다. 감사합니다. 네 감사합니다.\n"
     ]
    }
   ],
   "source": [
    "from faster_whisper import WhisperModel\n",
    "\n",
    "model = WhisperModel(\"base\")  # 필요하면 small/medium/large 사용 가능\n",
    "segments, info = model.transcribe(\"calling_data.m4a\")\n",
    "\n",
    "full_text = \" \".join([seg.text for seg in segments])\n",
    "print(\"📝 인식된 텍스트:\")\n",
    "print(full_text)"
   ]
  },
  {
   "cell_type": "code",
   "execution_count": 5,
   "metadata": {},
   "outputs": [
    {
     "name": "stdout",
     "output_type": "stream",
     "text": [
      "🔎 요약 및 요구사항 정리:\n",
      "- 지역: 성수\n",
      "- 매체: 성수역 근처 및 성수 카페 거리 중심의 다양한 매체\n",
      "- 타겟층: MG세대\n",
      "- 비고 (미팅 날짜, 추후 연락 등): 고객이 미팅 대신 이메일로 제안서를 받기를 원함. 오늘 중으로 이메일 발송 예정.\n",
      "- 연락처: 이메일 - sgsgk113@skal8.co\n",
      "- 성사 여부: 제안서 발송 후 결정될 예정 (현재 성사 여부 미확정)\n"
     ]
    }
   ],
   "source": [
    "import openai\n",
    "import os\n",
    "from dotenv import load_dotenv\n",
    "\n",
    "load_dotenv()\n",
    "client = openai.OpenAI()  # 최신버전: client 객체 생성\n",
    "\n",
    "def summarize_and_extract(text):\n",
    "    prompt = f\"\"\"\n",
    "    다음 고객과의 통화 내용을 요약하고, 고객의 요구사항을 다음 필드별로 정리해줘:\n",
    "    - 지역:\n",
    "    - 매체:\n",
    "    - 타겟층:\n",
    "    - 비고 (미팅 날짜, 추후 연락 등):\n",
    "    - 연락처:\n",
    "    - 성사 여부:\n",
    "\n",
    "    통화 내용:\n",
    "    \\\"\\\"\\\"{text}\\\"\\\"\\\" \n",
    "    \"\"\"\n",
    "\n",
    "    response = client.chat.completions.create(\n",
    "        model=\"gpt-4o\",\n",
    "        messages=[\n",
    "            {\"role\": \"system\", \"content\": \"너는 영업 담당자의 어시스턴트야. 고객의 요구사항을 정확하게 정리해야 해.\"},\n",
    "            {\"role\": \"user\", \"content\": prompt}\n",
    "        ],\n",
    "        temperature=0.2\n",
    "    )\n",
    "\n",
    "    return response.choices[0].message.content\n",
    "\n",
    "# full_text 사용\n",
    "summary = summarize_and_extract(full_text)\n",
    "\n",
    "print(\"🔎 요약 및 요구사항 정리:\")\n",
    "print(summary)"
   ]
  },
  {
   "cell_type": "code",
   "execution_count": null,
   "metadata": {},
   "outputs": [
    {
     "name": "stdout",
     "output_type": "stream",
     "text": [
      "\n",
      "📝 CLOVA 최종 변환 결과:\n",
      "안녕하세요 옥외광고 대행사 올리 질 것입니다 혹시 어느 부 담당자 맞으신가요 네 맞습니다 네 안녕하세요 다름이 아니라 이번 신제품 출시에 맞춰서 저희가 홍대 지하철 매체를 대체한 드리고자 하는데 혹시 관심 있으실까요 홍대가 어느 부족의 타겟 층엔 엠지 세대와 딱 맞을 것 같아서요 어서 이거 이번에 홍대는 말고 상세 팝업 스토어 리뉴얼 계획인데 혹시 선수촌 매체도 있나요 네 물론이죠 성수역 근처뿐만 아니라 상수 카페거리 중심으로 저희가 여러 매체를 보유하고 있는데 혹시 제가 미팅으로 자세하게 설명 드려도 될까요 죄송한데 제가 미팅 오를 것 같고요 이멜로 있던 최 한서 보내주세요 네 그럼 저희 통합 옥외 광고 제안서와 함께 성수 팝업을 마친 자연서 따로 보내 드리겠습니다 혹시 자연서 따로 보내 드리겠습니다 혹시 담당자 분 성함과 이메일 알수 있을까요 아 제 이름은 이호정이야 그 이메일은 sg 에스지 케이 일산 골뱅이 닷컴입니다 내 sg 에스지 케이 1213 골뱅이 skl 점 시오에 맞으시죠 오늘중으로 메일 드리겠습니다 감사합니다 감사합니다\n"
     ]
    }
   ],
   "source": [
    "import requests\n",
    "import json\n",
    "import time\n",
    "import os\n",
    "from pydub import AudioSegment\n",
    "\n",
    "# 네이버 클라우드 플랫폼에서 발급받은 키\n",
    "CLOVA_API_URL = \"https://naveropenapi.apigw.ntruss.com/recog/v1/stt\"\n",
    "ACCESS_KEY = \"\"\n",
    "SECRET_KEY = \"\"\n",
    "\n",
    "def compress_audio(input_file, output_file, format=\"wav\", bitrate=\"64k\"):\n",
    "    \"\"\"오디오 파일을 압축하여 크기를 줄입니다.\"\"\"\n",
    "    try:\n",
    "        audio = AudioSegment.from_file(input_file)\n",
    "        audio.export(output_file, format=format, bitrate=bitrate)\n",
    "        print(f\"✅ 파일 압축 완료: {output_file} (원본 크기의 약 {os.path.getsize(output_file)/os.path.getsize(input_file)*100:.1f}%)\")\n",
    "        return output_file\n",
    "    except Exception as e:\n",
    "        print(f\"❗ 파일 압축 실패: {str(e)}\")\n",
    "        return None\n",
    "\n",
    "def clova_speech_to_text(file_path):\n",
    "    headers = {\n",
    "        \"X-NCP-APIGW-API-KEY-ID\": ACCESS_KEY,\n",
    "        \"X-NCP-APIGW-API-KEY\": SECRET_KEY,\n",
    "        \"Content-Type\": \"application/octet-stream\"\n",
    "    }\n",
    "\n",
    "    params = {\n",
    "        \"lang\": \"Kor\"  # 한국어 코드\n",
    "    }\n",
    "\n",
    "    with open(file_path, 'rb') as f:\n",
    "        audio_data = f.read()\n",
    "\n",
    "    response = requests.post(CLOVA_API_URL, headers=headers, params=params, data=audio_data)\n",
    "\n",
    "    if response.status_code == 200:\n",
    "        result_json = response.json()\n",
    "\n",
    "        # 응답에서 텍스트 추출\n",
    "        text = result_json.get('text', '')\n",
    "        return text\n",
    "\n",
    "    else:\n",
    "        print(f\"❗ CLOVA API 요청 실패: {response.status_code}\")\n",
    "        print(response.text)\n",
    "        return None\n",
    "\n",
    "def process_multiple_audios(file_list):\n",
    "    \"\"\"여러 개의 오디오 파일을 변환하고 결과를 합침.\"\"\"\n",
    "    full_transcript = \"\"\n",
    "    for file_path in file_list:\n",
    "        # print(f\"🔎 변환 중: {file_path}\")\n",
    "        text = clova_speech_to_text(file_path)\n",
    "        # print(f\"✅ 변환 결과: {text}\\n\")\n",
    "        full_transcript += text + \" \"\n",
    "    return full_transcript.strip()\n",
    "\n",
    "# ✅ 불러올 오디오 파일들\n",
    "audio_files = [\"calling_data1.wav\", \"calling_data2.wav\"]  # 파일명은 실제 파일에 맞게 수정\n",
    "\n",
    "transcript = process_multiple_audios(audio_files)\n",
    "\n",
    "print(\"\\n📝 CLOVA 최종 변환 결과:\")\n",
    "print(transcript)"
   ]
  },
  {
   "cell_type": "markdown",
   "metadata": {},
   "source": [
    "2️⃣ GPT로 요약 및 요구사항 정리"
   ]
  },
  {
   "cell_type": "code",
   "execution_count": 6,
   "metadata": {},
   "outputs": [
    {
     "name": "stdout",
     "output_type": "stream",
     "text": [
      "🔎 요약 및 요구사항 정리:\n",
      "- 지역: 홍대, 성수\n",
      "- 매체: 홍대 지하철, 성수역 근처 및 상수 카페거리 중심의 옥외광고 매체\n",
      "- 타겟층: MZ 세대\n",
      "- 비고 (미팅 날짜, 추후 연락 등): 미팅 대신 이메일로 제안서 요청, 오늘 중으로 이메일 발송 예정\n",
      "- 연락처: 이메일 - sg1213@skl.co.kr\n",
      "- 성사 여부: 제안서 이메일 발송 후 결정 예정\n"
     ]
    }
   ],
   "source": [
    "import openai\n",
    "import os\n",
    "from dotenv import load_dotenv\n",
    "\n",
    "load_dotenv()\n",
    "client = openai.OpenAI()  # 최신버전: client 객체 생성\n",
    "\n",
    "def summarize_and_extract(text):\n",
    "    prompt = f\"\"\"\n",
    "    다음 고객과의 통화 내용을 요약하고, 고객의 요구사항을 다음 필드별로 정리해줘:\n",
    "    - 지역:\n",
    "    - 매체:\n",
    "    - 타겟층:\n",
    "    - 비고 (미팅 날짜, 추후 연락 등):\n",
    "    - 연락처:\n",
    "    - 성사 여부:\n",
    "\n",
    "    통화 내용:\n",
    "    \\\"\\\"\\\"{text}\\\"\\\"\\\" \n",
    "    \"\"\"\n",
    "\n",
    "    response = client.chat.completions.create(\n",
    "        model=\"gpt-4o\",\n",
    "        messages=[\n",
    "            {\"role\": \"system\", \"content\": \"너는 영업 담당자의 어시스턴트야. 고객의 요구사항을 정확하게 정리해야 해.\"},\n",
    "            {\"role\": \"user\", \"content\": prompt}\n",
    "        ],\n",
    "        temperature=0.2\n",
    "    )\n",
    "\n",
    "    return response.choices[0].message.content\n",
    "\n",
    "# full_text 사용\n",
    "summary = summarize_and_extract(transcript)\n",
    "\n",
    "print(\"🔎 요약 및 요구사항 정리:\")\n",
    "print(summary)"
   ]
  },
  {
   "cell_type": "code",
   "execution_count": 3,
   "metadata": {},
   "outputs": [
    {
     "data": {
      "application/vnd.jupyter.widget-view+json": {
       "model_id": "cdb4168d92d9486d9dc9251fe5847fe6",
       "version_major": 2,
       "version_minor": 0
      },
      "text/plain": [
       "config.json:   0%|          | 0.00/2.31k [00:00<?, ?B/s]"
      ]
     },
     "metadata": {},
     "output_type": "display_data"
    },
    {
     "data": {
      "application/vnd.jupyter.widget-view+json": {
       "model_id": "4c7f8207fae04aa085ac5221c5ecde2e",
       "version_major": 2,
       "version_minor": 0
      },
      "text/plain": [
       "model.safetensors:   0%|          | 0.00/1.27G [00:00<?, ?B/s]"
      ]
     },
     "metadata": {},
     "output_type": "display_data"
    },
    {
     "name": "stderr",
     "output_type": "stream",
     "text": [
      "Some weights of the model checkpoint at kresnik/wav2vec2-large-xlsr-korean were not used when initializing Wav2Vec2ForCTC: ['wav2vec2.encoder.pos_conv_embed.conv.weight_v', 'wav2vec2.encoder.pos_conv_embed.conv.weight_g']\n",
      "- This IS expected if you are initializing Wav2Vec2ForCTC from the checkpoint of a model trained on another task or with another architecture (e.g. initializing a BertForSequenceClassification model from a BertForPreTraining model).\n",
      "- This IS NOT expected if you are initializing Wav2Vec2ForCTC from the checkpoint of a model that you expect to be exactly identical (initializing a BertForSequenceClassification model from a BertForSequenceClassification model).\n",
      "Some weights of Wav2Vec2ForCTC were not initialized from the model checkpoint at kresnik/wav2vec2-large-xlsr-korean and are newly initialized: ['wav2vec2.encoder.pos_conv_embed.conv.parametrizations.weight.original0', 'wav2vec2.encoder.pos_conv_embed.conv.parametrizations.weight.original1']\n",
      "You should probably TRAIN this model on a down-stream task to be able to use it for predictions and inference.\n"
     ]
    },
    {
     "data": {
      "application/vnd.jupyter.widget-view+json": {
       "model_id": "2382dfeaf2a342508ccf05a87e096558",
       "version_major": 2,
       "version_minor": 0
      },
      "text/plain": [
       "tokenizer_config.json:   0%|          | 0.00/161 [00:00<?, ?B/s]"
      ]
     },
     "metadata": {},
     "output_type": "display_data"
    },
    {
     "data": {
      "application/vnd.jupyter.widget-view+json": {
       "model_id": "d2174a769c2c4d84ac06c3fe7cf6b774",
       "version_major": 2,
       "version_minor": 0
      },
      "text/plain": [
       "vocab.json:   0%|          | 0.00/18.2k [00:00<?, ?B/s]"
      ]
     },
     "metadata": {},
     "output_type": "display_data"
    },
    {
     "data": {
      "application/vnd.jupyter.widget-view+json": {
       "model_id": "a19f10aac4754a23a857af5e38de21b3",
       "version_major": 2,
       "version_minor": 0
      },
      "text/plain": [
       "preprocessor_config.json:   0%|          | 0.00/214 [00:00<?, ?B/s]"
      ]
     },
     "metadata": {},
     "output_type": "display_data"
    },
    {
     "name": "stdout",
     "output_type": "stream",
     "text": [
      "양냐 세어 오객 광고  행사 올리지 꾸입니다 혹시 어후부 담당자 마지신가요 내받습니다 난냐세 다름 아니라 이번 신제품 출시에 맞춰서 저희가 홍대 지하철 매체를 제안들이 고자 하는데 혹시 관심 미스실까요 홍대가 온후부 요 타게책인 렌지세대와 딱 마을 것 같았서요  소이가 이번을 홍대는 물고 성술 퍼블스토리열 계획인데 혹시 홍습쪽 매트된날 내 물론이자 상소였 근처뿐만 아니라 선수 카페거리 중심으로 저희가 여러 매체를 보유하고 있는데 혹시 제가 미팅으로 자세하게 설명들어도 될까요  최소원들 제비팅오를 부꾸요 이미로있던 제안소 보내 주세네 그럼 저희 통합 오백 광고 제안소와 함께 상습 파법을 같춘 제안서 따로 보내들리겠습니혹시 당당자본 성한과 이미 알 수 있을까요 제 이름은 이후 정이고요 이미은 메레스케이이 산 골백이 스플래더컴입니시지시지케이일리상 골백이 에스케이에이엘에이 쩜 시오에 마지시자 오늘 종으로 매 들리겠습니다 감사합니다 분산니다\n"
     ]
    }
   ],
   "source": [
    "from transformers import pipeline\n",
    "\n",
    "# 음성에서 텍스트로 변환\n",
    "transcriber = pipeline(\"automatic-speech-recognition\", model=\"kresnik/wav2vec2-large-xlsr-korean\")\n",
    "audio_file = \"calling_data.wav\"\n",
    "result = transcriber(audio_file)\n",
    "print(result[\"text\"])"
   ]
  }
 ],
 "metadata": {
  "kernelspec": {
   "display_name": "OoHMarketingSales",
   "language": "python",
   "name": "python3"
  },
  "language_info": {
   "codemirror_mode": {
    "name": "ipython",
    "version": 3
   },
   "file_extension": ".py",
   "mimetype": "text/x-python",
   "name": "python",
   "nbconvert_exporter": "python",
   "pygments_lexer": "ipython3",
   "version": "3.11.11"
  }
 },
 "nbformat": 4,
 "nbformat_minor": 2
}
