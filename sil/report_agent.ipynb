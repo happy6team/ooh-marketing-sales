{
 "cells": [
  {
   "cell_type": "code",
   "execution_count": 3,
   "metadata": {},
   "outputs": [],
   "source": [
    "from langchain_core.prompts import ChatPromptTemplate\n",
    "from langchain_core.runnables import RunnablePassthrough\n",
    "from langgraph.graph import StateGraph\n",
    "from typing import TypedDict, Optional\n",
    "from langchain_openai import ChatOpenAI\n",
    "from dotenv import load_dotenv\n",
    "import os"
   ]
  },
  {
   "cell_type": "code",
   "execution_count": 4,
   "metadata": {},
   "outputs": [],
   "source": [
    "# --- .env 에서 OPENAI API 키 불러오기 ---\n",
    "load_dotenv()\n",
    "openai_api_key = os.getenv(\"OPENAI_API_KEY\")\n",
    "\n",
    "# --- LLM 객체 생성 ---\n",
    "llm = ChatOpenAI(model=\"gpt-4o\", openai_api_key=openai_api_key)"
   ]
  },
  {
   "cell_type": "code",
   "execution_count": null,
   "metadata": {},
   "outputs": [],
   "source": [
    "# --- 🔎 상태 정의 ---\n",
    "class ProposalState(TypedDict, total=False):\n",
    "    brand_name: Optional[str]\n",
    "    brand_info: Optional[str]\n",
    "    client_needs: Optional[str]\n",
    "    recommended_media: Optional[str]\n",
    "    previous_campaigns: Optional[str]\n",
    "    proposal_text: Optional[str]\n",
    "    proposal_file_path: Optional[str]\n",
    "\n",
    "AgentState = ProposalState"
   ]
  },
  {
   "cell_type": "code",
   "execution_count": null,
   "metadata": {},
   "outputs": [],
   "source": [
    "# --- 🗄️ Tool 구성 (여기서는 예시 Stub 형태로 Tool 설정) ---\n",
    "# 실제 서비스에서는 아래 Tool들을 LangChain Toolkit으로 구현\n",
    "def db_query_tool(query: str) -> str:\n",
    "    return f\"[DB QUERY RESULT for: {query}]\"\n",
    "\n",
    "def web_search_tool(query: str) -> str:\n",
    "    return f\"[WEB SEARCH RESULT for: {query}]\"\n",
    "\n",
    "def vectordb_search_tool(query: str) -> str:\n",
    "    return f\"[VECTOR DB RESULT for: {query}]\""
   ]
  },
  {
   "cell_type": "code",
   "execution_count": null,
   "metadata": {},
   "outputs": [],
   "source": [
    "# --- Node 1: 브랜드 정보 + 고객 요구사항 분석 ---\n",
    "def analyze_brand_and_needs(state: ProposalState):\n",
    "    brand_name = state[\"brand_name\"]\n",
    "    # 브랜드 + 영업 기록 조회\n",
    "    brand_query = f\"\"\"\n",
    "    SELECT * FROM brand WHERE brand_name = '{brand_name}';\n",
    "    SELECT * FROM sales_log WHERE brand_name = '{brand_name}' ORDER BY contact_time DESC LIMIT 1;\n",
    "    \"\"\"\n",
    "    brand_info = db_query_tool(brand_query)\n",
    "\n",
    "    # 고객 요구사항 추출\n",
    "    needs_query = f\"\"\"\n",
    "    SELECT client_needs_summary FROM sales_log \n",
    "    WHERE brand_name = '{brand_name}' ORDER BY contact_time DESC LIMIT 1;\n",
    "    \"\"\"\n",
    "    client_needs = db_query_tool(needs_query)\n",
    "\n",
    "    return {**state, \"brand_info\": brand_info, \"client_needs\": client_needs}\n",
    "\n",
    "# --- Node 2: 매체 추천 및 매칭 ---\n",
    "def recommend_media(state: ProposalState):\n",
    "    client_needs = state.get(\"client_needs\") or \"\"\n",
    "    db_results = db_query_tool(\"SELECT * FROM media WHERE quantity > 0;\")\n",
    "    vector_results = vectordb_search_tool(client_needs)\n",
    "    web_results = web_search_tool(client_needs + \"에 적합한 옥외 광고 매체 추천\")\n",
    "\n",
    "    combined = f\"\"\"\n",
    "    [DB 추천]\\n{db_results}\\n\n",
    "    [VectorDB 추천]\\n{vector_results}\\n\n",
    "    [웹 검색 추천]\\n{web_results}\n",
    "    \"\"\"\n",
    "    return {**state, \"recommended_media\": combined}\n",
    "\n",
    "# --- Node 3: 유사 집행 사례 조회 ---\n",
    "def retrieve_previous_campaigns(state: ProposalState):\n",
    "    brand_name = state[\"brand_name\"]\n",
    "    query = f\"\"\"\n",
    "    SELECT c.*, cm.*, m.media_name FROM campaign c\n",
    "    JOIN campaign_media cm ON c.campaign_id = cm.campaign_id\n",
    "    JOIN media m ON cm.media_id = m.media_id\n",
    "    WHERE c.brand_id = (SELECT brand_id FROM brand WHERE brand_name = '{brand_name}');\n",
    "    \"\"\"\n",
    "    previous_campaigns = db_query_tool(query)\n",
    "    return {**state, \"previous_campaigns\": previous_campaigns}\n",
    "\n",
    "# --- Node 4: 제안서 생성 (Word 파일 포함) ---\n",
    "def generate_proposal(state: ProposalState):\n",
    "    prompt = ChatPromptTemplate.from_template(\"\"\"\n",
    "    브랜드명: {brand_name}\n",
    "    브랜드 정보: {brand_info}\n",
    "    고객 요구사항: {client_needs}\n",
    "    유사 집행 사례: {previous_campaigns}\n",
    "    추천 매체: {recommended_media}\n",
    "\n",
    "    위 정보를 바탕으로 고객에게 보낼 옥외 광고 제안서를 작성하세요.\n",
    "    \"\"\")\n",
    "\n",
    "    chain = prompt | llm\n",
    "    proposal = chain.invoke(state).content\n",
    "\n",
    "    # Word 파일 생성\n",
    "    doc = Document()\n",
    "    doc.add_heading(f\"{state['brand_name']} 옥외 광고 제안서\", level=1)\n",
    "    doc.add_paragraph(proposal)\n",
    "\n",
    "    file_name = f\"{state['brand_name']}_제안서.docx\"\n",
    "    doc.save(file_name)\n",
    "\n",
    "    return {**state, \"proposal_text\": proposal, \"proposal_file_path\": file_name}\n"
   ]
  },
  {
   "cell_type": "code",
   "execution_count": null,
   "metadata": {},
   "outputs": [],
   "source": [
    "# --- 🔗 그래프 구성 ---\n",
    "graph = StateGraph(ProposalState)\n",
    "\n",
    "graph.add_node(\"AnalyzeBrandAndNeeds\", analyze_brand_and_needs)\n",
    "graph.add_node(\"RecommendMedia\", recommend_media)\n",
    "graph.add_node(\"RetrievePreviousCampaigns\", retrieve_previous_campaigns)\n",
    "graph.add_node(\"GenerateProposal\", generate_proposal)\n",
    "\n",
    "graph.set_entry_point(\"AnalyzeBrandAndNeeds\")\n",
    "graph.add_edge(\"AnalyzeBrandAndNeeds\", \"RecommendMedia\")\n",
    "graph.add_edge(\"RecommendMedia\", \"RetrievePreviousCampaigns\")\n",
    "graph.add_edge(\"RetrievePreviousCampaigns\", \"GenerateProposal\")\n",
    "graph.set_finish_point(\"GenerateProposal\")\n",
    "\n",
    "proposal_graph = graph.compile()"
   ]
  },
  {
   "cell_type": "code",
   "execution_count": null,
   "metadata": {},
   "outputs": [
    {
     "name": "stdout",
     "output_type": "stream",
     "text": [
      "✅ 최종 제안서:\n",
      "content='**라네즈 옥외 광고 제안서**\\n\\n---\\n\\n**브랜드명:** 라네즈  \\n**제안서 수신인:** [고객명]\\n\\n---\\n\\n**브랜드 정보:**\\n\\n라네즈는 혁신적인 피부 과학을 기반으로 한 성분과 기술을 활용하여 수분 관리 솔루션을 제공하는 대표적인 스킨케어 브랜드입니다. 고객의 피부 상태와 필요에 따른 맞춤형 제품을 개발하여 다양한 피부 고민을 해결하고자 합니다.\\n\\n**고객 요구사항:**\\n\\n최근 고객들은 피부 수분 관리에 대한 관심이 증가하고 있으며, 이에 따라 라네즈의 수분 라인 제품에 대한 적극적인 홍보가 필요합니다. 특히, 사회 활동이 많은 20-30대 여성에게 브랜드의 인지도를 높이는 것이 중요합니다.\\n\\n**이전 캠페인 요약:**\\n\\n- **뷰티박람회 참여**: 라네즈는 다양한 뷰티박람회에서 제품을 직접 경험할 수 있는 부스를 운영하여 높은 호응을 받았습니다.\\n- **온라인 광고**: 주로 SNS 플랫폼을 통해 브랜드 메시지를 전달하였으며, 이는 온라인 상에서 긍정적인 피드백을 얻었습니다.\\n- **미디어 협업**: 국내 주요 뷰티 유튜버와 협업하여 제품 리뷰와 튜토리얼을 진행하였습니다.\\n\\n**추천 매체:**\\n\\n- **버스 쉘터 광고**: 도심 속 다양한 이동 경로에 위치한 버스 쉘터는 젊은 층의 높은 주목도를 자랑합니다.\\n- **지하철 내부 광고**: 출퇴근 시간대 밀집된 인구에게 제품 메시지를 효과적으로 전달할 수 있으며 브랜드 인지도를 높이는 데 유리합니다.\\n- **디지털 스크린 광고**: 강남, 홍대 등 트렌드에 민감한 지역의 대형 스크린을 활용한 광고 송출로 브랜드 이미지를 부각시킬 수 있습니다.\\n\\n**추천 매체의 장점:**\\n\\n- **실시간 노출**: 도심의 주요 지점에서 많은 사람에게 반복적으로 노출할 수 있습니다.\\n- **타겟 고객 접근성**: 주요 상권 및 다중 이용 시설에 위치하여 20-30대 여성들의 접근성이 높습니다.\\n- **다이내믹한 콘텐츠**: 디지털 스크린을 통해 다채로운 비주얼 콘텐츠를 제공하여 시선을 사로잡을 수 있습니다.\\n\\n**마무리 제안:**\\n\\n라네즈의 옥외 광고 캠페인은 브랜드 인지도를 강화하고, 고객과의 소통을 확대하는 데 중점을 두고 진행될 것입니다. 이 제안서는 라네즈의 현재 목표와 시장의 요구를 충족시키기 위한 전략적 접근을 담고 있으며, 귀사의 참여와 협업을 통해 더욱 효과적인 결과를 기대하고 있습니다.\\n\\n감사합니다.\\n\\n- [광고 담당자명]\\n- [연락처]\\n- [회사명]\\n\\n---' additional_kwargs={'refusal': None} response_metadata={'token_usage': {'completion_tokens': 643, 'prompt_tokens': 335, 'total_tokens': 978, 'completion_tokens_details': {'accepted_prediction_tokens': 0, 'audio_tokens': 0, 'reasoning_tokens': 0, 'rejected_prediction_tokens': 0}, 'prompt_tokens_details': {'audio_tokens': 0, 'cached_tokens': 0}}, 'model_name': 'gpt-4o-2024-08-06', 'system_fingerprint': 'fp_f5bdcc3276', 'id': 'chatcmpl-BUjCTfKf7FE11frrD4pNnGut9Y2DL', 'service_tier': 'default', 'finish_reason': 'stop', 'logprobs': None} id='run--82b79a09-dd44-4672-9d52-dd2acf3cea95-0' usage_metadata={'input_tokens': 335, 'output_tokens': 643, 'total_tokens': 978, 'input_token_details': {'audio': 0, 'cache_read': 0}, 'output_token_details': {'audio': 0, 'reasoning': 0}}\n"
     ]
    }
   ],
   "source": [
    "# --- 🚀 실행 예시 ---\n",
    "initial_state = {\n",
    "    \"brand_name\": \"라네즈\",\n",
    "}\n",
    "\n",
    "final_state = proposal_graph.invoke(initial_state)\n",
    "\n",
    "print(\"✅ 최종 제안서:\\n\")\n",
    "print(final_state[\"proposal_text\"])\n",
    "print(f\"📄 제안서 Word 파일 경로: {final_state['proposal_file_path']}\")"
   ]
  },
  {
   "cell_type": "code",
   "execution_count": null,
   "metadata": {},
   "outputs": [],
   "source": []
  },
  {
   "cell_type": "code",
   "execution_count": null,
   "metadata": {},
   "outputs": [],
   "source": []
  }
 ],
 "metadata": {
  "kernelspec": {
   "display_name": "OoHMarketingSales",
   "language": "python",
   "name": "python3"
  },
  "language_info": {
   "codemirror_mode": {
    "name": "ipython",
    "version": 3
   },
   "file_extension": ".py",
   "mimetype": "text/x-python",
   "name": "python",
   "nbconvert_exporter": "python",
   "pygments_lexer": "ipython3",
   "version": "3.11.11"
  }
 },
 "nbformat": 4,
 "nbformat_minor": 2
}
